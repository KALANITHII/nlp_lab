{
 "cells": [
  {
   "cell_type": "code",
   "execution_count": 3,
   "metadata": {},
   "outputs": [],
   "source": [
    "import re"
   ]
  },
  {
   "cell_type": "code",
   "execution_count": 44,
   "metadata": {},
   "outputs": [],
   "source": [
    "def dumbell(string:str) -> str:\n",
    "    pattern = r\"(Dumbell|dumbell|DUMBELL) (\\w+)\"\n",
    "\n",
    "    try:\n",
    "        exercise = re.findall(pattern,string)[0][1]\n",
    "    except:\n",
    "        print(\"Give Dumbell and the workout\")\n",
    "        return\n",
    "\n",
    "    if exercise.lower() == \"curls\":\n",
    "        print(\"Do 10 curls in set of 3s to get best results\")\n",
    "\n",
    "    elif exercise.lower() == \"pullover\":\n",
    "        print(\"Pullover is effective in upper body workout. 15 in set of 3s will be effective\")\n",
    "\n",
    "    elif exercise.lower() == \"flys\":\n",
    "        print(\"Flys works muscles in shoulder and chest. Use 12 KGs to do 15 in set of 3s\")"
   ]
  },
  {
   "cell_type": "code",
   "execution_count": 45,
   "metadata": {},
   "outputs": [
    {
     "name": "stdout",
     "output_type": "stream",
     "text": [
      "Do 10 curls in set of 3s to get best results\n"
     ]
    }
   ],
   "source": [
    "dumbell(\"dumbell curls\")"
   ]
  },
  {
   "cell_type": "code",
   "execution_count": 46,
   "metadata": {},
   "outputs": [
    {
     "name": "stdout",
     "output_type": "stream",
     "text": [
      "Flys works muscles in shoulder and chest. Use 12 KGs to do 15 in set of 3s\n"
     ]
    }
   ],
   "source": [
    "dumbell(\"DUMBELL FLYS\")"
   ]
  },
  {
   "cell_type": "code",
   "execution_count": 47,
   "metadata": {},
   "outputs": [
    {
     "name": "stdout",
     "output_type": "stream",
     "text": [
      "Pullover is effective in upper body workout. 15 in set of 3s will be effective\n"
     ]
    }
   ],
   "source": [
    "dumbell(\"DUMBELL pullOver\")"
   ]
  },
  {
   "cell_type": "code",
   "execution_count": 48,
   "metadata": {},
   "outputs": [
    {
     "name": "stdout",
     "output_type": "stream",
     "text": [
      "Give Dumbell and the workout\n"
     ]
    }
   ],
   "source": [
    "dumbell(\"Weight Lifting\")"
   ]
  }
 ],
 "metadata": {
  "kernelspec": {
   "display_name": "nlplab_env",
   "language": "python",
   "name": "python3"
  },
  "language_info": {
   "codemirror_mode": {
    "name": "ipython",
    "version": 3
   },
   "file_extension": ".py",
   "mimetype": "text/x-python",
   "name": "python",
   "nbconvert_exporter": "python",
   "pygments_lexer": "ipython3",
   "version": "3.10.9"
  },
  "orig_nbformat": 4,
  "vscode": {
   "interpreter": {
    "hash": "80223e0b96b21b6ab94bb3c1b14fbef17ccb8d987f3443ee0ec439dd0b212109"
   }
  }
 },
 "nbformat": 4,
 "nbformat_minor": 2
}
