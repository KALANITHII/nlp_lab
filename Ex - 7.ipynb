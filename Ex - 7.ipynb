{
 "cells": [
  {
   "cell_type": "markdown",
   "id": "78db27f0",
   "metadata": {},
   "source": [
    "## Tree Bank Encoding"
   ]
  },
  {
   "cell_type": "code",
   "execution_count": 9,
   "id": "5f9cfb36",
   "metadata": {},
   "outputs": [],
   "source": [
    "import nltk\n",
    "from nltk.tokenize import TreebankWordTokenizer"
   ]
  },
  {
   "cell_type": "code",
   "execution_count": 10,
   "id": "826448ac",
   "metadata": {},
   "outputs": [],
   "source": [
    "with open(\"NLP2.txt\", \"r\") as file:\n",
    "    text = file.read()\n"
   ]
  },
  {
   "cell_type": "code",
   "execution_count": 11,
   "id": "de4aadb7",
   "metadata": {},
   "outputs": [],
   "source": [
    "tokenizer = TreebankWordTokenizer()\n",
    "tokens = tokenizer.tokenize(text)"
   ]
  },
  {
   "cell_type": "code",
   "execution_count": 12,
   "id": "7ef5bf02",
   "metadata": {},
   "outputs": [],
   "source": [
    "tagged_tokens = nltk.pos_tag(tokens)"
   ]
  },
  {
   "cell_type": "code",
   "execution_count": 13,
   "id": "6fb68566",
   "metadata": {},
   "outputs": [
    {
     "data": {
      "text/plain": [
       "[('The', 'DT'),\n",
       " ('train', 'NN'),\n",
       " ('does', 'VBZ'),\n",
       " ('not', 'RB'),\n",
       " ('leave', 'VB'),\n",
       " ('at', 'IN'),\n",
       " ('12', 'CD'),\n",
       " ('AM', 'NNP'),\n",
       " ('.', '.')]"
      ]
     },
     "execution_count": 13,
     "metadata": {},
     "output_type": "execute_result"
    }
   ],
   "source": [
    "tagged_tokens"
   ]
  },
  {
   "cell_type": "code",
   "execution_count": 14,
   "id": "e509cffa",
   "metadata": {},
   "outputs": [],
   "source": [
    "from nltk import chunk\n",
    "tree = chunk.ne_chunk(tagged_tokens)\n",
    "tree.draw()"
   ]
  },
  {
   "cell_type": "markdown",
   "id": "d22a9095",
   "metadata": {},
   "source": [
    "## Byte Pair Encoding "
   ]
  },
  {
   "cell_type": "code",
   "execution_count": 9,
   "id": "12e245f1",
   "metadata": {},
   "outputs": [],
   "source": [
    "from bpe import Encoder"
   ]
  },
  {
   "cell_type": "code",
   "execution_count": 10,
   "id": "680e4097",
   "metadata": {},
   "outputs": [],
   "source": [
    "encoder = Encoder(200, pct_bpe=0.88)"
   ]
  },
  {
   "cell_type": "code",
   "execution_count": 13,
   "id": "e9c1521c",
   "metadata": {},
   "outputs": [],
   "source": [
    "test_corpus = '''\n",
    "    Object raspberrypi functools dict kwargs. Gevent raspberrypi functools. Dunder raspberrypi decorator dict didn't lambda zip import pyramid, she lambda iterate?\n",
    "    Kwargs raspberrypi diversity unit object gevent. Import fall integration decorator unit django yield functools twisted. Dunder integration decorator he she future. Python raspberrypi community pypy. Kwargs integration beautiful test reduce gil python closure. Gevent he integration generator fall test kwargs raise didn't visor he itertools...\n",
    "    Reduce integration coroutine bdfl he python. Cython didn't integration while beautiful list python didn't nit!\n",
    "    Object fall diversity 2to3 dunder script. Python fall for: integration exception dict kwargs dunder pycon. Import raspberrypi beautiful test import six web. Future integration mercurial self script web. Return raspberrypi community test she stable.\n",
    "    Django raspberrypi mercurial unit import yield raspberrypi visual rocksdahouse. Dunder raspberrypi mercurial list reduce class test scipy helmet zip?\n",
    "'''"
   ]
  },
  {
   "cell_type": "code",
   "execution_count": 14,
   "id": "1870d4e4",
   "metadata": {},
   "outputs": [],
   "source": [
    "encoder.fit(test_corpus.split('\\n'))"
   ]
  },
  {
   "cell_type": "code",
   "execution_count": 39,
   "id": "ab3dafb9",
   "metadata": {},
   "outputs": [],
   "source": [
    "example = \"The train does not leave at 12 AM.\""
   ]
  },
  {
   "cell_type": "code",
   "execution_count": 40,
   "id": "8589801b",
   "metadata": {},
   "outputs": [
    {
     "name": "stdout",
     "output_type": "stream",
     "text": [
      "['__sow', 'th', 'e', '__eow', '__sow', 't', 'ra', 'in', '__eow', '__sow', 'd', 'o', 'e', 's', '__eow', '__sow', 'n', 'o', 't', '__eow', '__sow', 'le', 'a', 've', '__eow', '__sow', 'at', '__eow', '__sow', '__unk', '2', '__eow', '__sow', 'am', '__eow', '.']\n"
     ]
    }
   ],
   "source": [
    "print(encoder.tokenize(example))"
   ]
  },
  {
   "cell_type": "code",
   "execution_count": 41,
   "id": "6e5c5b8a",
   "metadata": {},
   "outputs": [
    {
     "name": "stdout",
     "output_type": "stream",
     "text": [
      "[25, 145, 27, 24, 25, 12, 50, 140, 24, 25, 36, 32, 27, 30, 24, 25, 39, 32, 12, 24, 25, 114, 33, 88, 24, 25, 84, 24, 25, 0, 149, 24, 25, 65, 24, 2]\n"
     ]
    }
   ],
   "source": [
    "print(next(encoder.transform([example])))"
   ]
  },
  {
   "cell_type": "code",
   "execution_count": 42,
   "id": "84e25615",
   "metadata": {},
   "outputs": [
    {
     "name": "stdout",
     "output_type": "stream",
     "text": [
      "the train does not leave at __unk2 am .\n"
     ]
    }
   ],
   "source": [
    "print(next(encoder.inverse_transform(encoder.transform([example]))))"
   ]
  },
  {
   "cell_type": "code",
   "execution_count": null,
   "id": "9db7f00c",
   "metadata": {},
   "outputs": [],
   "source": []
  }
 ],
 "metadata": {
  "kernelspec": {
   "display_name": "nlplab_env",
   "language": "python",
   "name": "python3"
  },
  "language_info": {
   "codemirror_mode": {
    "name": "ipython",
    "version": 3
   },
   "file_extension": ".py",
   "mimetype": "text/x-python",
   "name": "python",
   "nbconvert_exporter": "python",
   "pygments_lexer": "ipython3",
   "version": "3.10.9"
  },
  "vscode": {
   "interpreter": {
    "hash": "80223e0b96b21b6ab94bb3c1b14fbef17ccb8d987f3443ee0ec439dd0b212109"
   }
  }
 },
 "nbformat": 4,
 "nbformat_minor": 5
}
