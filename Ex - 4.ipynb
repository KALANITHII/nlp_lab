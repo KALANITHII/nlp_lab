{
 "cells": [
  {
   "cell_type": "code",
   "execution_count": 25,
   "metadata": {},
   "outputs": [],
   "source": [
    "paragraph = \"The cool autumn of 2022, breeze blew through the leaves of the tall trees, causing them to rustle and whisper secrets to each other. The sun was just starting to dip below the horizon, painting the sky in a warm orange hue. A lone figure stood at the edge of the forest, watching as the last remnants of daylight disappeared behind the mountains. They sighed and turned to head back to their home, a small cabin nestled among the trees. As they walked, their thoughts drifted to the events of the day. They had spent the afternoon gathering firewood and tending to the garden, trying to prepare for the long winter ahead. It was hard work, but it was also peaceful and fulfilling. The figure smiled to themselves, grateful for the simple pleasures of life in the countryside.\""
   ]
  },
  {
   "cell_type": "code",
   "execution_count": 26,
   "metadata": {},
   "outputs": [],
   "source": [
    "import re"
   ]
  },
  {
   "cell_type": "code",
   "execution_count": 27,
   "metadata": {},
   "outputs": [
    {
     "name": "stdout",
     "output_type": "stream",
     "text": [
      "['2', '2', '2']\n"
     ]
    }
   ],
   "source": [
    "# Brackets\n",
    "x = re.findall(\"[2]\", paragraph)\n",
    "print(x)"
   ]
  },
  {
   "cell_type": "code",
   "execution_count": 8,
   "metadata": {},
   "outputs": [
    {
     "name": "stdout",
     "output_type": "stream",
     "text": [
      "['z', 'z', 'y', 'y', 'y', 'y', 'y', 'y', 'y', 'y']\n"
     ]
    }
   ],
   "source": [
    "# Dash\n",
    "x = re.findall(\"[x-z]\", paragraph)\n",
    "print(x)"
   ]
  },
  {
   "cell_type": "code",
   "execution_count": 19,
   "metadata": {},
   "outputs": [
    {
     "name": "stdout",
     "output_type": "stream",
     "text": [
      "['T', 'h', ' ', 'c', 'o', 'o', 'l', ' ', 'a', 'u', 't', 'u', 'm', 'n', ' ', 'o', 'f', ' ', '2', '0', '2', '2', ',', ' ', ' ', 'l', 'w', ' ', 't', 'h', 'o', 'u', 'g', 'h', ' ', 't', 'h', ' ', 'l', 'a', 'v', 's', ' ', 'o', 'f', ' ', 't', 'h', ' ', 't', 'a', 'l', 'l', ' ', 't', 's', ',', ' ', 'c', 'a', 'u', 's', 'i', 'n', 'g', ' ', 't', 'h', 'm', ' ', 't', 'o', ' ', 'u', 's', 't', 'l', ' ', 'a', 'n', 'd', ' ', 'w', 'h', 'i', 's', 'p', ' ', 's', 'c', 't', 's', ' ', 't', 'o', ' ', 'a', 'c', 'h', ' ', 'o', 't', 'h', '.', ' ', 'T', 'h', ' ', 's', 'u', 'n', ' ', 'w', 'a', 's', ' ', 'j', 'u', 's', 't', ' ', 's', 't', 'a', 't', 'i', 'n', 'g', ' ', 't', 'o', ' ', 'd', 'i', 'p', ' ', 'l', 'o', 'w', ' ', 't', 'h', ' ', 'h', 'o', 'i', 'o', 'n', ',', ' ', 'p', 'a', 'i', 'n', 't', 'i', 'n', 'g', ' ', 't', 'h', ' ', 's', 'k', 'y', ' ', 'i', 'n', ' ', 'a', ' ', 'w', 'a', 'm', ' ', 'o', 'a', 'n', 'g', ' ', 'h', 'u', '.', ' ', 'A', ' ', 'l', 'o', 'n', ' ', 'f', 'i', 'g', 'u', ' ', 's', 't', 'o', 'o', 'd', ' ', 'a', 't', ' ', 't', 'h', ' ', 'd', 'g', ' ', 'o', 'f', ' ', 't', 'h', ' ', 'f', 'o', 's', 't', ',', ' ', 'w', 'a', 't', 'c', 'h', 'i', 'n', 'g', ' ', 'a', 's', ' ', 't', 'h', ' ', 'l', 'a', 's', 't', ' ', 'm', 'n', 'a', 'n', 't', 's', ' ', 'o', 'f', ' ', 'd', 'a', 'y', 'l', 'i', 'g', 'h', 't', ' ', 'd', 'i', 's', 'a', 'p', 'p', 'a', 'd', ' ', 'h', 'i', 'n', 'd', ' ', 't', 'h', ' ', 'm', 'o', 'u', 'n', 't', 'a', 'i', 'n', 's', '.', ' ', 'T', 'h', 'y', ' ', 's', 'i', 'g', 'h', 'd', ' ', 'a', 'n', 'd', ' ', 't', 'u', 'n', 'd', ' ', 't', 'o', ' ', 'h', 'a', 'd', ' ', 'a', 'c', 'k', ' ', 't', 'o', ' ', 't', 'h', 'i', ' ', 'h', 'o', 'm', ',', ' ', 'a', ' ', 's', 'm', 'a', 'l', 'l', ' ', 'c', 'a', 'i', 'n', ' ', 'n', 's', 't', 'l', 'd', ' ', 'a', 'm', 'o', 'n', 'g', ' ', 't', 'h', ' ', 't', 's', '.', ' ', 'A', 's', ' ', 't', 'h', 'y', ' ', 'w', 'a', 'l', 'k', 'd', ',', ' ', 't', 'h', 'i', ' ', 't', 'h', 'o', 'u', 'g', 'h', 't', 's', ' ', 'd', 'i', 'f', 't', 'd', ' ', 't', 'o', ' ', 't', 'h', ' ', 'v', 'n', 't', 's', ' ', 'o', 'f', ' ', 't', 'h', ' ', 'd', 'a', 'y', '.', ' ', 'T', 'h', 'y', ' ', 'h', 'a', 'd', ' ', 's', 'p', 'n', 't', ' ', 't', 'h', ' ', 'a', 'f', 't', 'n', 'o', 'o', 'n', ' ', 'g', 'a', 't', 'h', 'i', 'n', 'g', ' ', 'f', 'i', 'w', 'o', 'o', 'd', ' ', 'a', 'n', 'd', ' ', 't', 'n', 'd', 'i', 'n', 'g', ' ', 't', 'o', ' ', 't', 'h', ' ', 'g', 'a', 'd', 'n', ',', ' ', 't', 'y', 'i', 'n', 'g', ' ', 't', 'o', ' ', 'p', 'p', 'a', ' ', 'f', 'o', ' ', 't', 'h', ' ', 'l', 'o', 'n', 'g', ' ', 'w', 'i', 'n', 't', ' ', 'a', 'h', 'a', 'd', '.', ' ', 'I', 't', ' ', 'w', 'a', 's', ' ', 'h', 'a', 'd', ' ', 'w', 'o', 'k', ',', ' ', 'u', 't', ' ', 'i', 't', ' ', 'w', 'a', 's', ' ', 'a', 'l', 's', 'o', ' ', 'p', 'a', 'c', 'f', 'u', 'l', ' ', 'a', 'n', 'd', ' ', 'f', 'u', 'l', 'f', 'i', 'l', 'l', 'i', 'n', 'g', '.', ' ', 'T', 'h', ' ', 'f', 'i', 'g', 'u', ' ', 's', 'm', 'i', 'l', 'd', ' ', 't', 'o', ' ', 't', 'h', 'm', 's', 'l', 'v', 's', ',', ' ', 'g', 'a', 't', 'f', 'u', 'l', ' ', 'f', 'o', ' ', 't', 'h', ' ', 's', 'i', 'm', 'p', 'l', ' ', 'p', 'l', 'a', 's', 'u', 's', ' ', 'o', 'f', ' ', 'l', 'i', 'f', ' ', 'i', 'n', ' ', 't', 'h', ' ', 'c', 'o', 'u', 'n', 't', 'y', 's', 'i', 'd', '.']\n"
     ]
    }
   ],
   "source": [
    "# Caret\n",
    "x = re.findall(\"[^breeze]\", paragraph)\n",
    "print(x)"
   ]
  },
  {
   "cell_type": "code",
   "execution_count": 36,
   "metadata": {},
   "outputs": [
    {
     "name": "stdout",
     "output_type": "stream",
     "text": [
      "['the', 'the', 'tre', 'the', 'tle', 'the', 'the', 'the', 'the', 'the', 'the', 'the', 'the', 'tle', 'the', 'tre', 'the', 'the', 'te', 'the', 'the', 'the', 'te', 'the', 'te', 'the', 'the', 'te', 'the', 'te', 'the', 'the']\n"
     ]
    }
   ],
   "source": [
    "# Question Mark\n",
    "\n",
    "x = re.findall(\"t.?e\", paragraph)\n",
    "\n",
    "print(x)"
   ]
  },
  {
   "cell_type": "code",
   "execution_count": 37,
   "metadata": {},
   "outputs": [
    {
     "name": "stdout",
     "output_type": "stream",
     "text": [
      "['breeze', 'blew']\n"
     ]
    }
   ],
   "source": [
    "# Pipe Operator\n",
    "\n",
    "x = re.findall(\"breeze|blew\", paragraph)\n",
    "\n",
    "print(x)"
   ]
  },
  {
   "cell_type": "code",
   "execution_count": 38,
   "metadata": {},
   "outputs": [
    {
     "name": "stdout",
     "output_type": "stream",
     "text": [
      "['they']\n"
     ]
    }
   ],
   "source": [
    "# wild character\n",
    "x = re.findall(\"th.y\",paragraph)\n",
    "print(x)"
   ]
  },
  {
   "cell_type": "code",
   "execution_count": 39,
   "metadata": {},
   "outputs": [
    {
     "name": "stdout",
     "output_type": "stream",
     "text": [
      "<re.Match object; span=(320, 323), match='are'>\n"
     ]
    }
   ],
   "source": [
    "# re.search\n",
    "\n",
    "x = re.search(\"are\", paragraph)\n",
    "\n",
    "print(x)"
   ]
  },
  {
   "cell_type": "code",
   "execution_count": 43,
   "metadata": {},
   "outputs": [
    {
     "name": "stdout",
     "output_type": "stream",
     "text": [
      "<re.Match object; span=(0, 3), match='The'>\n"
     ]
    }
   ],
   "source": [
    "# re.match\n",
    "\n",
    "x = re.match(\"the\",paragraph,re.IGNORECASE)\n",
    "print(x)"
   ]
  },
  {
   "cell_type": "code",
   "execution_count": 44,
   "metadata": {},
   "outputs": [
    {
     "name": "stdout",
     "output_type": "stream",
     "text": [
      "['2022']\n"
     ]
    }
   ],
   "source": [
    "# re.findall\n",
    "\n",
    "x = re.findall(\"2022\",paragraph)\n",
    "print(x)"
   ]
  },
  {
   "cell_type": "code",
   "execution_count": 45,
   "metadata": {},
   "outputs": [
    {
     "name": "stdout",
     "output_type": "stream",
     "text": [
      "['The', 'cool', 'autumn', 'of', '2022,', 'breeze', 'blew', 'through', 'the', 'leaves', 'of', 'the', 'tall', 'trees,', 'causing', 'them', 'to', 'rustle', 'and', 'whisper', 'secrets', 'to', 'each', 'other.', 'The', 'sun', 'was', 'just', 'starting', 'to', 'dip', 'below', 'the', 'horizon,', 'painting', 'the', 'sky', 'in', 'a', 'warm', 'orange', 'hue.', 'A', 'lone', 'figure', 'stood', 'at', 'the', 'edge', 'of', 'the', 'forest,', 'watching', 'as', 'the', 'last', 'remnants', 'of', 'daylight', 'disappeared', 'behind', 'the', 'mountains.', 'They', 'sighed', 'and', 'turned', 'to', 'head', 'back', 'to', 'their', 'home,', 'a', 'small', 'cabin', 'nestled', 'among', 'the', 'trees.', 'As', 'they', 'walked,', 'their', 'thoughts', 'drifted', 'to', 'the', 'events', 'of', 'the', 'day.', 'They', 'had', 'spent', 'the', 'afternoon', 'gathering', 'firewood', 'and', 'tending', 'to', 'the', 'garden,', 'trying', 'to', 'prepare', 'for', 'the', 'long', 'winter', 'ahead.', 'It', 'was', 'hard', 'work,', 'but', 'it', 'was', 'also', 'peaceful', 'and', 'fulfilling.', 'The', 'figure', 'smiled', 'to', 'themselves,', 'grateful', 'for', 'the', 'simple', 'pleasures', 'of', 'life', 'in', 'the', 'countryside.']\n"
     ]
    }
   ],
   "source": [
    "# re.split\n",
    "\n",
    "x = re.split(\"\\s\",paragraph)\n",
    "print(x)"
   ]
  },
  {
   "cell_type": "code",
   "execution_count": null,
   "metadata": {},
   "outputs": [],
   "source": []
  }
 ],
 "metadata": {
  "kernelspec": {
   "display_name": "nlplab_env",
   "language": "python",
   "name": "python3"
  },
  "language_info": {
   "codemirror_mode": {
    "name": "ipython",
    "version": 3
   },
   "file_extension": ".py",
   "mimetype": "text/x-python",
   "name": "python",
   "nbconvert_exporter": "python",
   "pygments_lexer": "ipython3",
   "version": "3.10.9 (tags/v3.10.9:1dd9be6, Dec  6 2022, 20:01:21) [MSC v.1934 64 bit (AMD64)]"
  },
  "orig_nbformat": 4,
  "vscode": {
   "interpreter": {
    "hash": "80223e0b96b21b6ab94bb3c1b14fbef17ccb8d987f3443ee0ec439dd0b212109"
   }
  }
 },
 "nbformat": 4,
 "nbformat_minor": 2
}
