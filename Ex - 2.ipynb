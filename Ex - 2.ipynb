{
  "cells": [
    {
      "cell_type": "code",
      "execution_count": 6,
      "metadata": {
        "colab": {
          "base_uri": "https://localhost:8080/"
        },
        "id": "egVKMghwVsW1",
        "outputId": "1f05c36d-b21d-482c-9f59-9b0682d2a819"
      },
      "outputs": [],
      "source": [
        "import nltk\n",
        "# nltk.download('punkt')"
      ]
    },
    {
      "cell_type": "code",
      "execution_count": 1,
      "metadata": {
        "id": "KIA--YZtWOqh"
      },
      "outputs": [],
      "source": [
        "from nltk.tokenize import word_tokenize"
      ]
    },
    {
      "cell_type": "code",
      "execution_count": 8,
      "metadata": {
        "id": "MW1MEtUnWc_K"
      },
      "outputs": [],
      "source": [
        "f1=\"Formula One (also known as Formula 1 or F1) is the highest class of international racing for open-wheel single-seater formula racing cars sanctioned by the Fédération Internationale de l'Automobile (FIA). The World Drivers' Championship, which became the FIA Formula One World Championship in 1981, has been one of the premier forms of racing around the world since its inaugural season in 1950. The word formula in the name refers to the set of rules to which all participants' cars must conform.[1] A Formula One season consists of a series of races, known as Grands Prix, which take place worldwide on both purpose-built circuits and closed public roads.\""
      ]
    },
    {
      "cell_type": "code",
      "execution_count": 9,
      "metadata": {},
      "outputs": [
        {
          "name": "stderr",
          "output_type": "stream",
          "text": [
            "[nltk_data] Downloading package punkt to\n",
            "[nltk_data]     C:\\Users\\Kala\\AppData\\Roaming\\nltk_data...\n",
            "[nltk_data]   Unzipping tokenizers\\punkt.zip.\n"
          ]
        },
        {
          "data": {
            "text/plain": [
              "True"
            ]
          },
          "execution_count": 9,
          "metadata": {},
          "output_type": "execute_result"
        }
      ],
      "source": [
        "nltk.download('punkt')"
      ]
    },
    {
      "cell_type": "code",
      "execution_count": 10,
      "metadata": {
        "id": "SKao__aGWgJ8"
      },
      "outputs": [],
      "source": [
        "tokens=word_tokenize(f1)"
      ]
    },
    {
      "cell_type": "code",
      "execution_count": 11,
      "metadata": {
        "colab": {
          "base_uri": "https://localhost:8080/"
        },
        "id": "cJrkaPzEWuwQ",
        "outputId": "50c1b1d2-fe80-48b6-e326-8cfca72b0891"
      },
      "outputs": [
        {
          "data": {
            "text/plain": [
              "['Formula',\n",
              " 'One',\n",
              " '(',\n",
              " 'also',\n",
              " 'known',\n",
              " 'as',\n",
              " 'Formula',\n",
              " '1',\n",
              " 'or',\n",
              " 'F1',\n",
              " ')',\n",
              " 'is',\n",
              " 'the',\n",
              " 'highest',\n",
              " 'class',\n",
              " 'of',\n",
              " 'international',\n",
              " 'racing',\n",
              " 'for',\n",
              " 'open-wheel',\n",
              " 'single-seater',\n",
              " 'formula',\n",
              " 'racing',\n",
              " 'cars',\n",
              " 'sanctioned',\n",
              " 'by',\n",
              " 'the',\n",
              " 'Fédération',\n",
              " 'Internationale',\n",
              " 'de',\n",
              " \"l'Automobile\",\n",
              " '(',\n",
              " 'FIA',\n",
              " ')',\n",
              " '.',\n",
              " 'The',\n",
              " 'World',\n",
              " 'Drivers',\n",
              " \"'\",\n",
              " 'Championship',\n",
              " ',',\n",
              " 'which',\n",
              " 'became',\n",
              " 'the',\n",
              " 'FIA',\n",
              " 'Formula',\n",
              " 'One',\n",
              " 'World',\n",
              " 'Championship',\n",
              " 'in',\n",
              " '1981',\n",
              " ',',\n",
              " 'has',\n",
              " 'been',\n",
              " 'one',\n",
              " 'of',\n",
              " 'the',\n",
              " 'premier',\n",
              " 'forms',\n",
              " 'of',\n",
              " 'racing',\n",
              " 'around',\n",
              " 'the',\n",
              " 'world',\n",
              " 'since',\n",
              " 'its',\n",
              " 'inaugural',\n",
              " 'season',\n",
              " 'in',\n",
              " '1950',\n",
              " '.',\n",
              " 'The',\n",
              " 'word',\n",
              " 'formula',\n",
              " 'in',\n",
              " 'the',\n",
              " 'name',\n",
              " 'refers',\n",
              " 'to',\n",
              " 'the',\n",
              " 'set',\n",
              " 'of',\n",
              " 'rules',\n",
              " 'to',\n",
              " 'which',\n",
              " 'all',\n",
              " 'participants',\n",
              " \"'\",\n",
              " 'cars',\n",
              " 'must',\n",
              " 'conform',\n",
              " '.',\n",
              " '[',\n",
              " '1',\n",
              " ']',\n",
              " 'A',\n",
              " 'Formula',\n",
              " 'One',\n",
              " 'season',\n",
              " 'consists',\n",
              " 'of',\n",
              " 'a',\n",
              " 'series',\n",
              " 'of',\n",
              " 'races',\n",
              " ',',\n",
              " 'known',\n",
              " 'as',\n",
              " 'Grands',\n",
              " 'Prix',\n",
              " ',',\n",
              " 'which',\n",
              " 'take',\n",
              " 'place',\n",
              " 'worldwide',\n",
              " 'on',\n",
              " 'both',\n",
              " 'purpose-built',\n",
              " 'circuits',\n",
              " 'and',\n",
              " 'closed',\n",
              " 'public',\n",
              " 'roads',\n",
              " '.']"
            ]
          },
          "execution_count": 11,
          "metadata": {},
          "output_type": "execute_result"
        }
      ],
      "source": [
        "tokens"
      ]
    },
    {
      "cell_type": "markdown",
      "metadata": {
        "id": "FXXIlHthEYuN"
      },
      "source": [
        "Q2.Length of Tokens"
      ]
    },
    {
      "cell_type": "code",
      "execution_count": 12,
      "metadata": {
        "colab": {
          "base_uri": "https://localhost:8080/"
        },
        "id": "0NghP_YIXcjL",
        "outputId": "844d8c7d-da91-4a23-9da5-c75502039a8c"
      },
      "outputs": [
        {
          "data": {
            "text/plain": [
              "124"
            ]
          },
          "execution_count": 12,
          "metadata": {},
          "output_type": "execute_result"
        }
      ],
      "source": [
        "len(tokens)"
      ]
    },
    {
      "cell_type": "markdown",
      "metadata": {
        "id": "SZW8ao_2Ed-8"
      },
      "source": [
        "Q3.Number of sentence in it."
      ]
    },
    {
      "cell_type": "code",
      "execution_count": 13,
      "metadata": {
        "colab": {
          "base_uri": "https://localhost:8080/"
        },
        "id": "e1Mrcn5_Xd8f",
        "outputId": "6f8964ce-19ab-4238-8f48-25c37ad7f1b8"
      },
      "outputs": [
        {
          "name": "stdout",
          "output_type": "stream",
          "text": [
            "4\n"
          ]
        }
      ],
      "source": [
        "count=0\n",
        "for i in f1:\n",
        "  if i==\".\":\n",
        "    count=count+1\n",
        "print(count)"
      ]
    },
    {
      "cell_type": "markdown",
      "metadata": {
        "id": "idzvhEIwHViY"
      },
      "source": [
        "Q4. frequency distribution function to find the occurrence of words\n"
      ]
    },
    {
      "cell_type": "code",
      "execution_count": 14,
      "metadata": {
        "id": "oaTRfk72FCfT"
      },
      "outputs": [],
      "source": [
        "from nltk.probability import FreqDist\n",
        "fdist=FreqDist()"
      ]
    },
    {
      "cell_type": "code",
      "execution_count": 15,
      "metadata": {
        "colab": {
          "base_uri": "https://localhost:8080/"
        },
        "id": "n2XswAQ3FuUC",
        "outputId": "b2df061b-157d-4cf1-f2b5-00393685e4b9"
      },
      "outputs": [
        {
          "data": {
            "text/plain": [
              "FreqDist({'the': 9, 'formula': 6, 'of': 6, 'one': 4, '.': 4, ',': 4, 'racing': 3, 'world': 3, 'which': 3, 'in': 3, ...})"
            ]
          },
          "execution_count": 15,
          "metadata": {},
          "output_type": "execute_result"
        }
      ],
      "source": [
        "for word in tokens:\n",
        "  fdist[word.lower()]+=1\n",
        "fdist"
      ]
    },
    {
      "cell_type": "markdown",
      "metadata": {
        "id": "pxTQa9zSHZjA"
      },
      "source": [
        "Q5.occurrence of particular word"
      ]
    },
    {
      "cell_type": "code",
      "execution_count": 16,
      "metadata": {
        "colab": {
          "base_uri": "https://localhost:8080/"
        },
        "id": "LoXJYRxtGWbT",
        "outputId": "6bb31823-bbd7-478f-8484-4be1ccacc1ff"
      },
      "outputs": [
        {
          "data": {
            "text/plain": [
              "3"
            ]
          },
          "execution_count": 16,
          "metadata": {},
          "output_type": "execute_result"
        }
      ],
      "source": [
        "fdist['racing']"
      ]
    },
    {
      "cell_type": "markdown",
      "metadata": {
        "id": "MpZ0kuaIHtWY"
      },
      "source": [
        "Q6.Top 5 highest frequency of words in the document\n"
      ]
    },
    {
      "cell_type": "code",
      "execution_count": 17,
      "metadata": {
        "colab": {
          "base_uri": "https://localhost:8080/"
        },
        "id": "rDK6SG1PGa4M",
        "outputId": "e02fa753-f4f6-48b9-8540-46f5a5d235cf"
      },
      "outputs": [
        {
          "data": {
            "text/plain": [
              "[('the', 9), ('formula', 6), ('of', 6), ('one', 4), ('.', 4)]"
            ]
          },
          "execution_count": 17,
          "metadata": {},
          "output_type": "execute_result"
        }
      ],
      "source": [
        "top_words=fdist.most_common(5)\n",
        "top_words"
      ]
    },
    {
      "cell_type": "markdown",
      "metadata": {
        "id": "UGC0Rj3fIzEE"
      },
      "source": [
        "Q7.Dispersion plot\n"
      ]
    },
    {
      "cell_type": "code",
      "execution_count": 19,
      "metadata": {
        "colab": {
          "base_uri": "https://localhost:8080/",
          "height": 506
        },
        "id": "nGfcgo5KKIVh",
        "outputId": "7f39deb3-d619-46f8-8c21-3e6e458cebb2"
      },
      "outputs": [
        {
          "data": {
            "text/plain": [
              "<AxesSubplot: title={'center': 'Lexical Dispersion Plot'}, xlabel='Word Offset'>"
            ]
          },
          "execution_count": 19,
          "metadata": {},
          "output_type": "execute_result"
        },
        {
          "data": {
            "text/plain": [
              "<Figure size 1200x900 with 0 Axes>"
            ]
          },
          "metadata": {},
          "output_type": "display_data"
        },
        {
          "data": {
            "image/png": "[encoded data removed]",
            "text/plain": [
              "<Figure size 640x480 with 1 Axes>"
            ]
          },
          "metadata": {},
          "output_type": "display_data"
        }
      ],
      "source": [
        "from nltk.draw.dispersion import dispersion_plot\n",
        "import matplotlib.pyplot as plt\n",
        "\n",
        "# the following command can be used to increase the size of the plot using width and hight specifications\n",
        "plt.figure(figsize=(12, 9))\n",
        "targets=['formula','the','of','one']\n",
        "dispersion_plot(f1, targets, ignore_case=True, title='Lexical Dispersion Plot')\n",
        "\n",
        "\n"
      ]
    },
    {
      "cell_type": "code",
      "execution_count": null,
      "metadata": {},
      "outputs": [],
      "source": []
    }
  ],
  "metadata": {
    "colab": {
      "provenance": []
    },
    "kernelspec": {
      "display_name": "Python 3",
      "language": "python",
      "name": "python3"
    },
    "language_info": {
      "codemirror_mode": {
        "name": "ipython",
        "version": 3
      },
      "file_extension": ".py",
      "mimetype": "text/x-python",
      "name": "python",
      "nbconvert_exporter": "python",
      "pygments_lexer": "ipython3",
      "version": "3.10.9"
    },
    "vscode": {
      "interpreter": {
        "hash": "9fd7e0b829ac849158a8eba6627bea85a4c27828da6eaa45fad73a8a8aa8a631"
      }
    }
  },
  "nbformat": 4,
  "nbformat_minor": 0
}
