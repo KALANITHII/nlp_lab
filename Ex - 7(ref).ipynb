{
 "cells": [
  {
   "cell_type": "code",
   "execution_count": 1,
   "metadata": {},
   "outputs": [],
   "source": [
    "from nltk.tokenize import TreebankWordTokenizer\n",
    "s = \"Virat Kohli's red hot form in the ODI's is an added advantage for India's upcoming Word Cup'23 campaign\""
   ]
  },
  {
   "cell_type": "code",
   "execution_count": 3,
   "metadata": {},
   "outputs": [
    {
     "data": {
      "text/plain": [
       "['Virat',\n",
       " 'Kohli',\n",
       " \"'s\",\n",
       " 'red',\n",
       " 'hot',\n",
       " 'form',\n",
       " 'in',\n",
       " 'the',\n",
       " 'ODI',\n",
       " \"'s\",\n",
       " 'is',\n",
       " 'an',\n",
       " 'added',\n",
       " 'advantage',\n",
       " 'for',\n",
       " 'India',\n",
       " \"'s\",\n",
       " 'upcoming',\n",
       " 'Word',\n",
       " \"Cup'23\",\n",
       " 'campaign']"
      ]
     },
     "execution_count": 3,
     "metadata": {},
     "output_type": "execute_result"
    }
   ],
   "source": [
    "TreebankWordTokenizer().tokenize(s)"
   ]
  },
  {
   "cell_type": "code",
   "execution_count": 4,
   "metadata": {},
   "outputs": [],
   "source": [
    "# Byte Pair Encoding\n",
    "\n",
    "import re\n",
    "from collections import Counter,defaultdict"
   ]
  },
  {
   "cell_type": "code",
   "execution_count": 6,
   "metadata": {},
   "outputs": [],
   "source": [
    "def build_vocab(corpus):\n",
    "    tokens = [\" \".join(word) + \"</w>\" for word in corpus.split()]\n",
    "    vocab = Counter(tokens)\n",
    "    print(tokens)\n",
    "    return vocab"
   ]
  },
  {
   "cell_type": "code",
   "execution_count": 8,
   "metadata": {},
   "outputs": [],
   "source": [
    "def get_stats(vocab):\n",
    "    pairs = defaultdict(int)\n",
    "    for word,frequency in vocab.items():\n",
    "        symbols = word.split()\n",
    "\n",
    "        for i in range(len(symbols) - 1):\n",
    "            pairs[symbols[i],symbols[i+1]] += frequency\n",
    "\n",
    "    return pairs"
   ]
  },
  {
   "cell_type": "code",
   "execution_count": 9,
   "metadata": {},
   "outputs": [],
   "source": [
    "def merge_vocab(pair,vocab_in):\n",
    "    vocab_out = {}\n",
    "    bigram = re.escape(\" \".join(pair))\n",
    "    pattern = re.compile(r'(?<!\\S)' + bigram + r\"(?!\\S)\")\n",
    "\n",
    "    for word in vocab_in:\n",
    "        w_out = pattern.sub(\"\".join(pair),word)\n",
    "        vocab_out[w_out] = vocab_in[word]\n",
    "\n",
    "    return vocab_out"
   ]
  },
  {
   "cell_type": "code",
   "execution_count": 10,
   "metadata": {},
   "outputs": [
    {
     "name": "stdout",
     "output_type": "stream",
     "text": [
      "['V i r a t</w>', \"K o h l i ' s</w>\", 'r e d</w>', 'h o t</w>', 'f o r m</w>', 'i n</w>', 't h e</w>', \"O D I ' s</w>\", 'i s</w>', 'a n</w>', 'a d d e d</w>', 'a d v a n t a g e</w>', 'f o r</w>', \"I n d i a ' s</w>\", 'u p c o m i n g</w>', 'W o r d</w>', \"C u p ' 2 3</w>\", 'c a m p a i g n</w>']\n"
     ]
    }
   ],
   "source": [
    "vocab = build_vocab(s)\n",
    "num_merges = 50\n",
    "\n",
    "for i in range(num_merges):\n",
    "    pairs = get_stats(vocab)\n",
    "    if not pairs:\n",
    "        break\n",
    "    best = max(pairs,key = pairs.get)\n",
    "    vocab = merge_vocab(best,vocab)"
   ]
  }
 ],
 "metadata": {
  "kernelspec": {
   "display_name": "Python 3",
   "language": "python",
   "name": "python3"
  },
  "language_info": {
   "codemirror_mode": {
    "name": "ipython",
    "version": 3
   },
   "file_extension": ".py",
   "mimetype": "text/x-python",
   "name": "python",
   "nbconvert_exporter": "python",
   "pygments_lexer": "ipython3",
   "version": "3.10.9 (tags/v3.10.9:1dd9be6, Dec  6 2022, 20:01:21) [MSC v.1934 64 bit (AMD64)]"
  },
  "orig_nbformat": 4,
  "vscode": {
   "interpreter": {
    "hash": "9fd7e0b829ac849158a8eba6627bea85a4c27828da6eaa45fad73a8a8aa8a631"
   }
  }
 },
 "nbformat": 4,
 "nbformat_minor": 2
}
