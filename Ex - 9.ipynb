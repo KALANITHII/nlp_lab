{
 "cells": [
  {
   "cell_type": "code",
   "execution_count": 1,
   "metadata": {},
   "outputs": [],
   "source": [
    "import nltk\n",
    "from nltk.collocations import *"
   ]
  },
  {
   "cell_type": "code",
   "execution_count": 2,
   "metadata": {},
   "outputs": [],
   "source": [
    "corpus_data = \"India vs Newzealand cricket match saw a double hundered from Shubman Gill and a firey 146 runs from Michael Bracewell.\""
   ]
  },
  {
   "cell_type": "code",
   "execution_count": 4,
   "metadata": {},
   "outputs": [
    {
     "data": {
      "text/plain": [
       "['India',\n",
       " 'vs',\n",
       " 'Newzealand',\n",
       " 'cricket',\n",
       " 'match',\n",
       " 'saw',\n",
       " 'a',\n",
       " 'double',\n",
       " 'hundered',\n",
       " 'from',\n",
       " 'Shubman',\n",
       " 'Gill',\n",
       " 'and',\n",
       " 'a',\n",
       " 'firey',\n",
       " '146',\n",
       " 'runs',\n",
       " 'from',\n",
       " 'Michael',\n",
       " 'Bracewell',\n",
       " '.']"
      ]
     },
     "execution_count": 4,
     "metadata": {},
     "output_type": "execute_result"
    }
   ],
   "source": [
    "# Tokenize the corpus data\n",
    "tokens = nltk.word_tokenize(corpus_data)\n",
    "tokens"
   ]
  },
  {
   "cell_type": "code",
   "execution_count": 5,
   "metadata": {},
   "outputs": [
    {
     "name": "stdout",
     "output_type": "stream",
     "text": [
      "Bigrams: dict_items([(('India', 'vs'), 1), (('vs', 'Newzealand'), 1), (('Newzealand', 'cricket'), 1), (('cricket', 'match'), 1), (('match', 'saw'), 1), (('saw', 'a'), 1), (('a', 'double'), 1), (('double', 'hundered'), 1), (('hundered', 'from'), 1), (('from', 'Shubman'), 1), (('Shubman', 'Gill'), 1), (('Gill', 'and'), 1), (('and', 'a'), 1), (('a', 'firey'), 1), (('firey', '146'), 1), (('146', 'runs'), 1), (('runs', 'from'), 1), (('from', 'Michael'), 1), (('Michael', 'Bracewell'), 1), (('Bracewell', '.'), 1)])\n"
     ]
    }
   ],
   "source": [
    "# Create a bigram finder\n",
    "bigram_finder = BigramCollocationFinder.from_words(tokens)\n",
    "\n",
    "# Extract bigrams\n",
    "bigrams = bigram_finder.ngram_fd.items()\n",
    "print(\"Bigrams:\", bigrams)"
   ]
  },
  {
   "cell_type": "code",
   "execution_count": 6,
   "metadata": {},
   "outputs": [
    {
     "name": "stdout",
     "output_type": "stream",
     "text": [
      "Trigrams: dict_items([(('India', 'vs', 'Newzealand'), 1), (('vs', 'Newzealand', 'cricket'), 1), (('Newzealand', 'cricket', 'match'), 1), (('cricket', 'match', 'saw'), 1), (('match', 'saw', 'a'), 1), (('saw', 'a', 'double'), 1), (('a', 'double', 'hundered'), 1), (('double', 'hundered', 'from'), 1), (('hundered', 'from', 'Shubman'), 1), (('from', 'Shubman', 'Gill'), 1), (('Shubman', 'Gill', 'and'), 1), (('Gill', 'and', 'a'), 1), (('and', 'a', 'firey'), 1), (('a', 'firey', '146'), 1), (('firey', '146', 'runs'), 1), (('146', 'runs', 'from'), 1), (('runs', 'from', 'Michael'), 1), (('from', 'Michael', 'Bracewell'), 1), (('Michael', 'Bracewell', '.'), 1)])\n"
     ]
    }
   ],
   "source": [
    "# Create a trigram finder\n",
    "trigram_finder = TrigramCollocationFinder.from_words(tokens)\n",
    "\n",
    "# Extract trigrams\n",
    "trigrams = trigram_finder.ngram_fd.items()\n",
    "print(\"Trigrams:\", trigrams)"
   ]
  }
 ],
 "metadata": {
  "kernelspec": {
   "display_name": "Python 3",
   "language": "python",
   "name": "python3"
  },
  "language_info": {
   "codemirror_mode": {
    "name": "ipython",
    "version": 3
   },
   "file_extension": ".py",
   "mimetype": "text/x-python",
   "name": "python",
   "nbconvert_exporter": "python",
   "pygments_lexer": "ipython3",
   "version": "3.10.9 (tags/v3.10.9:1dd9be6, Dec  6 2022, 20:01:21) [MSC v.1934 64 bit (AMD64)]"
  },
  "orig_nbformat": 4,
  "vscode": {
   "interpreter": {
    "hash": "9fd7e0b829ac849158a8eba6627bea85a4c27828da6eaa45fad73a8a8aa8a631"
   }
  }
 },
 "nbformat": 4,
 "nbformat_minor": 2
}
